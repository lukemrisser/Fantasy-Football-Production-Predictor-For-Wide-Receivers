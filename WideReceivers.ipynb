{
 "cells": [
  {
   "cell_type": "code",
   "execution_count": 107,
   "id": "ddefc38f-e635-4fad-b371-71e7c8c89c66",
   "metadata": {},
   "outputs": [],
   "source": [
    "import pandas as pd\n",
    "import matplotlib as plt\n",
    "import seaborn as sns\n",
    "from xgboost import XGBRegressor\n",
    "from sklearn.pipeline import Pipeline\n",
    "import re"
   ]
  },
  {
   "cell_type": "code",
   "execution_count": 113,
   "id": "e87401a6",
   "metadata": {},
   "outputs": [
    {
     "data": {
      "text/plain": [
       "Index(['Rank', 'Player', 'Y/R', 'YBC', 'YBC/R', 'YAC', 'YAC/R', 'YACON',\n",
       "       'YACON/R', 'BRKTKL', 'TGT', '% TM', 'CATCHABLE', 'DROP', 'RZ TGT',\n",
       "       '10+ YDS', '20+ YDS', '30+ YDS', '40+ YDS', '50+ YDS', 'LNG', 'Age',\n",
       "       'G', 'GS', 'Rec', 'Ctch%', 'Yds', 'TD', '1D', 'Succ%', 'Y/Tgt', 'R/G',\n",
       "       'Y/G', 'Fmb', 'Fpts/G'],\n",
       "      dtype='object')"
      ]
     },
     "execution_count": 113,
     "metadata": {},
     "output_type": "execute_result"
    }
   ],
   "source": [
    "#create full dataframe with all stats\n",
    "def createWRDF(dfwrA, dfwrB, dfwrnext):\n",
    "    dfwrA = cleanFP(dfwrA)\n",
    "    dfwrB = cleanPFR(dfwrB)\n",
    "    dfwr = combine(dfwrA, dfwrB)\n",
    "    dfwr = addNextYrFpts(dfwr, dfwrnext)\n",
    "\n",
    "#add fpts/g for next season\n",
    "def addNextYrFpts(dfwrcurr, dfwrnext):\n",
    "    dfwrcurr = pd.merge(dfwrcurr, dfwrnext[['Player', 'Fpts/g']], left_on='Player', right_on='Player', how='inner', suffixes=('', '_nextYr'))\n",
    "    return dfwrcurr\n",
    "\n",
    "#add advanced stats from fantasy pros\n",
    "def cleanFP(dfwr):\n",
    "    dfwr['Player'] = dfwr['Player'].str.split(\"(\").str[0].str.strip()\n",
    "    dfwr = dfwr.drop(columns=['AIR', 'AIR/R', 'G', 'REC', 'YDS'])\n",
    "    return dfwr\n",
    "#add basic stats from pro football reference\n",
    "def cleanPFR(dfwr):\n",
    "    dfwr['Player'] = dfwr['Player'].str.replace(re.escape('*'), '', regex=True)\n",
    "    dfwr['Player'] = dfwr['Player'].str.replace(re.escape('+'), '', regex=True).str.strip()\n",
    "    dfwr['Fpts/G'] = dfwr.apply(lambda row: (row.Rec + row.Yds / 10 + row.TD * 6 + row.Fmb * - 2) / row.G, axis=1)\n",
    "    dfwr = dfwr.drop(columns=['Tm', 'Pos', 'Y/R', 'Tgt', 'Lng', 'Rk'])\n",
    "    return dfwr\n",
    "#combine advanced and basic stats into one dataframe\n",
    "def combine(dfwrA, dfwrB):\n",
    "    dfwr = pd.merge(dfwrA, dfwrB, left_on='Player', right_on='Player', how='inner')\n",
    "    return dfwr\n",
    "\n",
    "dfwr22A = pd.read_excel(r\"C:\\Users\\luker\\Downloads\\Python\\WR22.xlsx\", 'WR22A')\n",
    "dfwr22A = cleanFP(dfwr22A)\n",
    "dfwr22B = pd.read_excel(r\"C:\\Users\\luker\\Downloads\\Python\\WR22.xlsx\", 'WR22B')\n",
    "dfwr22B = cleanPFR(dfwr22B)\n",
    "dfwr22 = combine(dfwr22A, dfwr22B)\n",
    "dfwr22.columns"
   ]
  },
  {
   "cell_type": "code",
   "execution_count": null,
   "id": "85053f94",
   "metadata": {},
   "outputs": [],
   "source": []
  }
 ],
 "metadata": {
  "kernelspec": {
   "display_name": "Python 3 (ipykernel)",
   "language": "python",
   "name": "python3"
  },
  "language_info": {
   "codemirror_mode": {
    "name": "ipython",
    "version": 3
   },
   "file_extension": ".py",
   "mimetype": "text/x-python",
   "name": "python",
   "nbconvert_exporter": "python",
   "pygments_lexer": "ipython3",
   "version": "3.12.4"
  }
 },
 "nbformat": 4,
 "nbformat_minor": 5
}
