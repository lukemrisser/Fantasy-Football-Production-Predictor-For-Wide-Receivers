{
 "cells": [
  {
   "cell_type": "code",
   "execution_count": 49,
   "id": "ddefc38f-e635-4fad-b371-71e7c8c89c66",
   "metadata": {},
   "outputs": [],
   "source": [
    "import pandas as pd\n",
    "import matplotlib as plt\n",
    "import seaborn as sns\n",
    "from xgboost import XGBRegressor\n",
    "import re"
   ]
  },
  {
   "cell_type": "code",
   "execution_count": 75,
   "id": "e87401a6",
   "metadata": {},
   "outputs": [
    {
     "data": {
      "text/plain": [
       "Rank         float64\n",
       "Player        object\n",
       "G            float64\n",
       "REC          float64\n",
       "YDS          float64\n",
       "Y/R          float64\n",
       "YBC           object\n",
       "YBC/R        float64\n",
       "YAC          float64\n",
       "YAC/R        float64\n",
       "YACON        float64\n",
       "YACON/R      float64\n",
       "BRKTKL       float64\n",
       "TGT          float64\n",
       "% TM          object\n",
       "CATCHABLE    float64\n",
       "DROP         float64\n",
       "RZ TGT       float64\n",
       "10+ YDS      float64\n",
       "20+ YDS      float64\n",
       "30+ YDS      float64\n",
       "40+ YDS      float64\n",
       "50+ YDS      float64\n",
       "LNG          float64\n",
       "dtype: object"
      ]
     },
     "execution_count": 75,
     "metadata": {},
     "output_type": "execute_result"
    }
   ],
   "source": [
    "#add a year from pro football reference\n",
    "def cleanFP(dfwr):\n",
    "    dfwr['Player'] = dfwr['Player'].str.split(\"(\").str[0]\n",
    "    dfwr['YDS'] = dfwr['YDS'].str.replace(',', '').astype(float)\n",
    "    #dfwr['Fpts/G'] = dfwr.apply(lambda row: (row.REC + row.YDS / 10 + row.TD * 6) / row.G, axis=1)\n",
    "    dfwr = dfwr.drop(columns=['AIR', 'AIR/R'])\n",
    "    return dfwr\n",
    "\n",
    "dfwr22 = pd.read_csv(r\"C:\\Users\\luker\\Downloads\\Python\\WR22.csv\")\n",
    "dfwr22 = cleanFP(dfwr22)\n",
    "dfwr22.dtypes"
   ]
  },
  {
   "cell_type": "code",
   "execution_count": null,
   "id": "85053f94",
   "metadata": {},
   "outputs": [],
   "source": []
  }
 ],
 "metadata": {
  "kernelspec": {
   "display_name": "Python 3 (ipykernel)",
   "language": "python",
   "name": "python3"
  },
  "language_info": {
   "codemirror_mode": {
    "name": "ipython",
    "version": 3
   },
   "file_extension": ".py",
   "mimetype": "text/x-python",
   "name": "python",
   "nbconvert_exporter": "python",
   "pygments_lexer": "ipython3",
   "version": "3.12.4"
  }
 },
 "nbformat": 4,
 "nbformat_minor": 5
}
